{
 "cells": [
  {
   "cell_type": "markdown",
   "id": "90896416",
   "metadata": {},
   "source": [
    "# Face Detection"
   ]
  },
  {
   "cell_type": "code",
   "execution_count": 26,
   "id": "06d2bec8",
   "metadata": {},
   "outputs": [],
   "source": [
    "import cv2"
   ]
  },
  {
   "cell_type": "code",
   "execution_count": 27,
   "id": "63e1ca58",
   "metadata": {},
   "outputs": [],
   "source": [
    "img = cv2.imread(r\"C:\\Users\\mmoin\\OneDrive\\Pictures\\RandomImage.png\", cv2.IMREAD_UNCHANGED)"
   ]
  },
  {
   "cell_type": "code",
   "execution_count": 28,
   "id": "4dbf2905",
   "metadata": {},
   "outputs": [
    {
     "name": "stdout",
     "output_type": "stream",
     "text": [
      "Orignal Size of the Image (460, 460, 3)\n"
     ]
    }
   ],
   "source": [
    "print(\"Orignal Size of the Image\", img.shape)"
   ]
  },
  {
   "cell_type": "code",
   "execution_count": 29,
   "id": "8c3316c0",
   "metadata": {},
   "outputs": [],
   "source": [
    "scale_percent = 70"
   ]
  },
  {
   "cell_type": "code",
   "execution_count": 30,
   "id": "ea63707d",
   "metadata": {},
   "outputs": [],
   "source": [
    "width = int(img.shape[1]*70/100)"
   ]
  },
  {
   "cell_type": "code",
   "execution_count": 31,
   "id": "532a1c1a",
   "metadata": {},
   "outputs": [],
   "source": [
    "height =  int(img.shape[0]*70/100)"
   ]
  },
  {
   "cell_type": "code",
   "execution_count": 32,
   "id": "33283d14",
   "metadata": {},
   "outputs": [],
   "source": [
    "dimension = (width, height)"
   ]
  },
  {
   "cell_type": "code",
   "execution_count": 33,
   "id": "e95ed6e4",
   "metadata": {},
   "outputs": [],
   "source": [
    "resized = cv2.resize(img, dimension, cv2.INTER_AREA)"
   ]
  },
  {
   "cell_type": "code",
   "execution_count": 34,
   "id": "b9a29019",
   "metadata": {},
   "outputs": [
    {
     "name": "stdout",
     "output_type": "stream",
     "text": [
      "Resized Image Shape (322, 322, 3)\n"
     ]
    }
   ],
   "source": [
    "print(\"Resized Image Shape\", resized.shape)"
   ]
  },
  {
   "cell_type": "code",
   "execution_count": 35,
   "id": "534958e0",
   "metadata": {},
   "outputs": [],
   "source": [
    "face_classifier = cv2.CascadeClassifier(\"haarcascade_frontalface_default.xml\")"
   ]
  },
  {
   "cell_type": "code",
   "execution_count": 36,
   "id": "55eb6b9b",
   "metadata": {},
   "outputs": [],
   "source": [
    "gray = cv2.cvtColor(resized, cv2.COLOR_BGR2GRAY)"
   ]
  },
  {
   "cell_type": "code",
   "execution_count": 37,
   "id": "bde315c7",
   "metadata": {},
   "outputs": [],
   "source": [
    "faces = face_classifier.detectMultiScale(gray, 1.05, 6)"
   ]
  },
  {
   "cell_type": "code",
   "execution_count": null,
   "id": "87bee312",
   "metadata": {},
   "outputs": [
    {
     "name": "stderr",
     "output_type": "stream",
     "text": [
      "<>:1: SyntaxWarning: \"is\" with a literal. Did you mean \"==\"?\n",
      "<>:1: SyntaxWarning: \"is\" with a literal. Did you mean \"==\"?\n",
      "C:\\Users\\mmoin\\AppData\\Local\\Temp\\ipykernel_22712\\2599812909.py:1: SyntaxWarning: \"is\" with a literal. Did you mean \"==\"?\n",
      "  if faces is ():\n"
     ]
    }
   ],
   "source": [
    "if faces is ():\n",
    "    print(\"No Face Found\")\n",
    "for (x, y, w, h) in faces:\n",
    "    cv2.rectangle(resized, (x, y), (x+w, y+h), (127, 0, 255), 2)\n",
    "    cv2.imshow(\"Face Detection\", resized)\n",
    "    cv2.waitKey()\n",
    "    cv2.destroyAllWindows()"
   ]
  },
  {
   "cell_type": "code",
   "execution_count": 40,
   "id": "e88f111e",
   "metadata": {},
   "outputs": [],
   "source": [
    "#cv2.imshow(\"Resized Image\", resized)\n",
    "#cv2.waitKey()\n",
    "#cv2.destroyAllWindows()"
   ]
  },
  {
   "cell_type": "markdown",
   "id": "13e8fe5c",
   "metadata": {},
   "source": [
    "# Face and Eye Detection"
   ]
  },
  {
   "cell_type": "code",
   "execution_count": 10,
   "id": "7e5ab12c",
   "metadata": {},
   "outputs": [],
   "source": [
    "import cv2"
   ]
  },
  {
   "cell_type": "code",
   "execution_count": 22,
   "id": "cc4cff3c",
   "metadata": {},
   "outputs": [],
   "source": [
    "import numpy as np"
   ]
  },
  {
   "cell_type": "code",
   "execution_count": 23,
   "id": "826c1b89",
   "metadata": {},
   "outputs": [],
   "source": [
    "face_classifier = cv2.CascadeClassifier(\"haarcascade_frontalface_default.xml\")"
   ]
  },
  {
   "cell_type": "code",
   "execution_count": 24,
   "id": "ea11de61",
   "metadata": {},
   "outputs": [],
   "source": [
    "eye_classifier = cv2.CascadeClassifier(\"haarcascade_eye.xml\")"
   ]
  },
  {
   "cell_type": "code",
   "execution_count": 25,
   "id": "8f6a3f83",
   "metadata": {},
   "outputs": [],
   "source": [
    "img = cv2.imread(r\"C:\\Users\\mmoin\\OneDrive\\Pictures\\1528519426683.jpg\")"
   ]
  },
  {
   "cell_type": "code",
   "execution_count": 26,
   "id": "618a017e",
   "metadata": {},
   "outputs": [],
   "source": [
    "gray = cv2.cvtColor(img, cv2.COLOR_BGR2GRAY)"
   ]
  },
  {
   "cell_type": "code",
   "execution_count": 27,
   "id": "63853561",
   "metadata": {},
   "outputs": [],
   "source": [
    "faces = face_classifier.detectMultiScale(gray, 1.05, 3)"
   ]
  },
  {
   "cell_type": "code",
   "execution_count": 29,
   "id": "26ebf5c1",
   "metadata": {},
   "outputs": [
    {
     "name": "stderr",
     "output_type": "stream",
     "text": [
      "<>:1: SyntaxWarning: \"is\" with a literal. Did you mean \"==\"?\n",
      "<>:1: SyntaxWarning: \"is\" with a literal. Did you mean \"==\"?\n",
      "C:\\Users\\mmoin\\AppData\\Local\\Temp\\ipykernel_20392\\3375036116.py:1: SyntaxWarning: \"is\" with a literal. Did you mean \"==\"?\n",
      "  if faces is ():\n"
     ]
    }
   ],
   "source": [
    "if faces is ():\n",
    "    print(\"No Face Found\")\n",
    "for (x, y, w, h) in faces:\n",
    "    cv2.rectangle(img, (x, y),(x+w, y+h), (127, 0, 255), 2)\n",
    "    #cv2.imshow(\"img\", img)\n",
    "    #cv2.waitKey(0)\n",
    "    roi_gray = gray[y:y+h, x:x+w]\n",
    "    roi_color = img[y:y+h, x:x+w]\n",
    "    eyes = eye_classifier.detectMultiScale(roi_gray)\n",
    "    for (ex, ey, ew, eh) in eyes:\n",
    "        cv2.rectangle(roi_color, (ex, ey), (ex+ew,ey+eh), (255, 255, 0), 2)\n",
    "        cv2.waitKey(0)\n",
    "cv2.destroyAllWindows()\n",
    "        "
   ]
  },
  {
   "cell_type": "code",
   "execution_count": 30,
   "id": "92356c04",
   "metadata": {},
   "outputs": [
    {
     "name": "stderr",
     "output_type": "stream",
     "text": [
      "<>:10: SyntaxWarning: \"is\" with a literal. Did you mean \"==\"?\n",
      "<>:10: SyntaxWarning: \"is\" with a literal. Did you mean \"==\"?\n",
      "C:\\Users\\mmoin\\AppData\\Local\\Temp\\ipykernel_20392\\912692119.py:10: SyntaxWarning: \"is\" with a literal. Did you mean \"==\"?\n",
      "  if faces is ():\n"
     ]
    }
   ],
   "source": [
    "import numpy as np\n",
    "import cv2\n",
    " \n",
    "face_classifier = cv2.CascadeClassifier('haarcascade_frontalface_default.xml')\n",
    "eye_classifier = cv2.CascadeClassifier('haarcascade_eye.xml')\n",
    "img = cv2.imread(r\"C:\\Users\\mmoin\\OneDrive\\Pictures\\1528519426683.jpg\")\n",
    "gray = cv2.cvtColor(img, cv2.COLOR_BGR2GRAY)\n",
    "faces = face_classifier.detectMultiScale(gray, 1.05, 3)\n",
    "# When no faces detected, face_classifier returns and empty tuple\n",
    "if faces is ():\n",
    "    print(\"No Face Found\")\n",
    "for (x,y,w,h) in faces:\n",
    "    cv2.rectangle(img,(x,y),(x+w,y+h),(127,0,255),2)\n",
    "    #cv2.imshow('img',img)\n",
    "    #cv2.waitKey(0)\n",
    "    roi_gray = gray[y:y+h, x:x+w]\n",
    "    roi_color = img[y:y+h, x:x+w]\n",
    "    eyes = eye_classifier.detectMultiScale(roi_gray)\n",
    "    for (ex,ey,ew,eh) in eyes:\n",
    "        cv2.rectangle(roi_color,(ex,ey),(ex+ew,ey+eh),(255,255,0),2)\n",
    "        cv2.imshow('img',img)\n",
    "        cv2.waitKey(0)\n",
    "    "
   ]
  },
  {
   "cell_type": "code",
   "execution_count": null,
   "id": "e4daf6e2",
   "metadata": {},
   "outputs": [],
   "source": []
  }
 ],
 "metadata": {
  "kernelspec": {
   "display_name": "Python 3 (ipykernel)",
   "language": "python",
   "name": "python3"
  },
  "language_info": {
   "codemirror_mode": {
    "name": "ipython",
    "version": 3
   },
   "file_extension": ".py",
   "mimetype": "text/x-python",
   "name": "python",
   "nbconvert_exporter": "python",
   "pygments_lexer": "ipython3",
   "version": "3.9.12"
  }
 },
 "nbformat": 4,
 "nbformat_minor": 5
}
